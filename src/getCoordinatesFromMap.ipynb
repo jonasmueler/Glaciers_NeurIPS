{
 "cells": [
  {
   "cell_type": "code",
   "execution_count": 1,
   "id": "049c156c",
   "metadata": {},
   "outputs": [],
   "source": [
    "# packages \n",
    "import ipyleaflet\n"
   ]
  },
  {
   "cell_type": "code",
   "execution_count": 3,
   "id": "1b9e9b80",
   "metadata": {},
   "outputs": [
    {
     "data": {
      "application/vnd.jupyter.widget-view+json": {
       "model_id": "262d9c3a905b468282b2145ff47cf4b9",
       "version_major": 2,
       "version_minor": 0
      },
      "text/plain": [
       "Map(center=[25.276987, 55.296249], controls=(ZoomControl(options=['position', 'zoom_in_text', 'zoom_in_title',…"
      ]
     },
     "execution_count": 3,
     "metadata": {},
     "output_type": "execute_result"
    }
   ],
   "source": [
    "# get rectangle coordinates interactively\n",
    "lat, long = 25.276987, 55.296249\n",
    "\n",
    "m = ipyleaflet.Map(scroll_wheel_zoom=True)\n",
    "m.center = lat, long\n",
    "m.zoom = 12\n",
    "m.layout.height = \"800px\"\n",
    "m\n",
    "\n"
   ]
  },
  {
   "cell_type": "code",
   "execution_count": 4,
   "id": "ca7a81b8",
   "metadata": {},
   "outputs": [],
   "source": [
    "bbox = (m.west, m.south, m.east, m.north)"
   ]
  },
  {
   "cell_type": "code",
   "execution_count": 5,
   "id": "2c7cec60",
   "metadata": {},
   "outputs": [
    {
     "name": "stdout",
     "output_type": "stream",
     "text": [
      "(55.107421875, 25.152743274854956, 55.484733581542976, 25.401103936911777)\n"
     ]
    }
   ],
   "source": [
    "print(bbox)"
   ]
  }
 ],
 "metadata": {
  "kernelspec": {
   "display_name": "Python 3 (ipykernel)",
   "language": "python",
   "name": "python3"
  },
  "language_info": {
   "codemirror_mode": {
    "name": "ipython",
    "version": 3
   },
   "file_extension": ".py",
   "mimetype": "text/x-python",
   "name": "python",
   "nbconvert_exporter": "python",
   "pygments_lexer": "ipython3",
   "version": "3.10.13"
  }
 },
 "nbformat": 4,
 "nbformat_minor": 5
}
